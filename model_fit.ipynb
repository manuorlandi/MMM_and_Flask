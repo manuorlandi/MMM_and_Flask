{
 "cells": [
  {
   "cell_type": "code",
   "execution_count": 1,
   "metadata": {},
   "outputs": [],
   "source": [
    "import pandas as pd\n",
    "import warnings\n",
    "warnings.filterwarnings('ignore')\n",
    "from statsmodels.graphics.tsaplots import plot_acf, plot_pacf, pacf\n",
    "from statsmodels.tsa.stattools import acf, q_stat, adfuller\n",
    "from statsmodels.tsa.seasonal import seasonal_decompose\n",
    "from sklearn.metrics import mean_squared_error, mean_absolute_percentage_error\n",
    "from sklearn.preprocessing import MinMaxScaler\n",
    "from scipy.stats import probplot, moment\n",
    "import matplotlib.pyplot as plt\n",
    "import seaborn as sns\n",
    "import numpy as np\n",
    "from datetime import datetime \n",
    "from pathlib import Path\n",
    "import pandas as pd\n",
    "from sklearn.linear_model import LinearRegression, Ridge, Lasso\n",
    "from sklearn.model_selection import train_test_split\n",
    "import plotly.express as px\n",
    "import my_utilities\n",
    "import custom_functions as cf\n",
    "import pickle as pkl\n",
    "import sys, os\n",
    "\n",
    "cfg = my_utilities.__cfg_reading()\n",
    "\n",
    "KPI_LIST        = ['adCost','clicksCounter','impressionsCounter']\n",
    "PROJECT_PATH    = eval(cfg['PROJECT_PATH'])\n",
    "DATA_PATH       = PROJECT_PATH/cfg['DATA_FOLDER']\n",
    "FILE            = cfg['FILE_TO_EXPLORE']\n",
    "OUTPUT_FILE     = cfg['OUTPUT_FILE']\n",
    "MODEL_LOCATION  = PROJECT_PATH/cfg['MODEL_LOCATION']\n",
    "MODEL_NAME      = cfg['PICKLE_NAME']\n"
   ]
  },
  {
   "cell_type": "code",
   "execution_count": 2,
   "metadata": {},
   "outputs": [
    {
     "name": "stdout",
     "output_type": "stream",
     "text": [
      "AMAZON records: 101\n",
      "FACEBOOK records: 1164\n",
      "GOOGLE records: 561\n",
      "REVENUES records: 3186\n"
     ]
    }
   ],
   "source": [
    "amazon = pd.read_csv(DATA_PATH/'AMAZON_CLEANED.csv')\n",
    "amazon.sort_values(by='calDate', inplace=True, ignore_index=True)\n",
    "fb = pd.read_csv(DATA_PATH/'FACEBOOK_CLEANED.csv')\n",
    "fb.sort_values(by='calDate', inplace=True)\n",
    "google = pd.read_csv(DATA_PATH/'GOOGLE_CLEANED.csv')\n",
    "google.sort_values(by='calDate', inplace=True)\n",
    "revenues = pd.read_csv(DATA_PATH/'revenuesTest.csv')\n",
    "revenues.sort_values(by='calDate', inplace=True)\n",
    "\n",
    "amazon['calDate']   = pd.to_datetime(amazon['calDate']).dt.date\n",
    "fb['calDate']       = pd.to_datetime(fb['calDate']).dt.date\n",
    "google['calDate']   = pd.to_datetime(google['calDate']).dt.date\n",
    "revenues['calDate'] = pd.to_datetime(revenues['calDate']).dt.date\n",
    "\n",
    "\n",
    "print(f\"AMAZON records: {len(amazon)}\")\n",
    "print(f\"FACEBOOK records: {len(fb)}\")\n",
    "print(f\"GOOGLE records: {len(google)}\")\n",
    "print(f\"REVENUES records: {len(revenues)}\")"
   ]
  },
  {
   "cell_type": "code",
   "execution_count": 3,
   "metadata": {},
   "outputs": [],
   "source": [
    "revenues = revenues.drop_duplicates().reset_index(drop=True)"
   ]
  },
  {
   "attachments": {},
   "cell_type": "markdown",
   "metadata": {},
   "source": [
    "# HISTORICAL DEPTH"
   ]
  },
  {
   "cell_type": "code",
   "execution_count": 4,
   "metadata": {},
   "outputs": [
    {
     "name": "stdout",
     "output_type": "stream",
     "text": [
      "Start Date: 2022-10-22, End Date: 2023-02-20\n",
      "Start Date: 2019-03-03, End Date: 2023-01-05\n",
      "Start Date: 2021-08-02, End Date: 2023-02-14\n",
      "Start Date: 2018-08-26, End Date: 2023-02-13\n"
     ]
    }
   ],
   "source": [
    "print(f\"Start Date: {amazon['calDate'].min()}, End Date: {amazon['calDate'].max()}\")\n",
    "print(f\"Start Date: {fb['calDate'].min()}, End Date: {fb['calDate'].max()}\")\n",
    "print(f\"Start Date: {google['calDate'].min()}, End Date: {google['calDate'].max()}\")\n",
    "print(f\"Start Date: {revenues['calDate'].min()}, End Date: {revenues['calDate'].max()}\")\n",
    "\n",
    "min_date = min([amazon['calDate'].min(),fb['calDate'].min(),google['calDate'].min()])\n"
   ]
  },
  {
   "attachments": {},
   "cell_type": "markdown",
   "metadata": {},
   "source": [
    "Ci sono delle revenues precedenti alla prima data di partenza delle prime campagne...errore? Andiamo ad analizzare quei dati"
   ]
  },
  {
   "cell_type": "code",
   "execution_count": 5,
   "metadata": {},
   "outputs": [],
   "source": [
    "revenues_out = revenues[revenues['calDate']<min_date]"
   ]
  },
  {
   "attachments": {},
   "cell_type": "markdown",
   "metadata": {},
   "source": [
    "Sembrano trascurabili, quanto pesano sul totale?"
   ]
  },
  {
   "cell_type": "code",
   "execution_count": 6,
   "metadata": {},
   "outputs": [
    {
     "name": "stdout",
     "output_type": "stream",
     "text": [
      "0.000517594463032965\n"
     ]
    }
   ],
   "source": [
    "print(revenues_out['totDailyGrossRevenue'].sum()/revenues['totDailyGrossRevenue'].sum())"
   ]
  },
  {
   "attachments": {},
   "cell_type": "markdown",
   "metadata": {},
   "source": [
    "Sono c.ca 5 basis point, rimuovo"
   ]
  },
  {
   "cell_type": "code",
   "execution_count": 7,
   "metadata": {},
   "outputs": [],
   "source": [
    "revenues = revenues[revenues['calDate']>=min_date].reset_index(drop=True)"
   ]
  },
  {
   "cell_type": "code",
   "execution_count": 8,
   "metadata": {},
   "outputs": [],
   "source": [
    "revenues = revenues.groupby('calDate')['totDailyGrossRevenue'].sum().reset_index()"
   ]
  },
  {
   "cell_type": "code",
   "execution_count": 9,
   "metadata": {},
   "outputs": [],
   "source": [
    "revenues['calDate'] = pd.to_datetime(revenues['calDate'])\n",
    "google['calDate']   = pd.to_datetime(google['calDate'])\n",
    "amazon['calDate']   = pd.to_datetime(amazon['calDate'])\n",
    "fb['calDate']       = pd.to_datetime(fb['calDate'])"
   ]
  },
  {
   "cell_type": "code",
   "execution_count": 10,
   "metadata": {},
   "outputs": [],
   "source": [
    "df_final = pd.merge(revenues, google, on='calDate', how='left', suffixes=[None,'GOOG'])\n",
    "df_final = pd.merge(df_final, fb, on='calDate', how='left',suffixes=[None,'FB'])\n",
    "df_final = pd.merge(df_final, amazon, on='calDate', how='left',suffixes=[None,'AMZ'])\n",
    "df_final.columns = [\"calDate\",\"totDailyGrossRevenue\",\"adCostGOG\", \"clicksCounterGOG\", \"impressionsCounterGOG\", \"adCostFB\", \"clicksCounterFB\", \"impressionsCounterFB\", \"adCostAMZ\", \"clicksCounterAMZ\", \"impressionsCounterAMZ\"]\n",
    "df_final.to_csv('inputs/final_dataframe.csv',index=False)"
   ]
  },
  {
   "cell_type": "code",
   "execution_count": 11,
   "metadata": {},
   "outputs": [
    {
     "data": {
      "text/plain": [
       "(6, 4, 8, 5, 15, 30)"
      ]
     },
     "execution_count": 11,
     "metadata": {},
     "output_type": "execute_result"
    }
   ],
   "source": [
    "df_final         = df_final.fillna(0)\n",
    "val, lags        = cf.get_relevant_lag(df_final, target='totDailyGrossRevenue', n_lags=30)\n",
    "_,importance_lag = zip(*sorted(zip(val, lags), reverse=True))\n",
    "\n",
    "\n",
    "relevant_lags = importance_lag[:6]\n",
    "relevant_lags"
   ]
  },
  {
   "cell_type": "code",
   "execution_count": 12,
   "metadata": {},
   "outputs": [],
   "source": [
    "df_cp   = df_final.copy()\n",
    "df_cp   = df_cp.set_index('calDate')\n",
    "dict_ts = cf.decompose_time_series(df_cp['totDailyGrossRevenue'])"
   ]
  },
  {
   "cell_type": "code",
   "execution_count": 13,
   "metadata": {},
   "outputs": [],
   "source": [
    "df_final['totalcost'] = df_final['adCostGOG'] + df_final['adCostFB'] + df_final['adCostAMZ'] \n",
    "df_final.columns = [\"calDate\",\"totDailyGrossRevenue\",\"adCostGOG\", \"clicksCounterGOG\", \"impressionsCounterGOG\", \"adCostFB\", \"clicksCounterFB\", \"impressionsCounterFB\", \"adCostAMZ\", \"clicksCounterAMZ\", \"impressionsCounterAMZ\",\"totalcost\"]\n",
    "\n",
    "#df_final['seasonal'] = dict_ts['seasonal'].reset_index(drop=*True)\n",
    "#df_final['trend'] = dict_ts['trend'].reset_index(drop=True).fillna(0)\n"
   ]
  },
  {
   "cell_type": "code",
   "execution_count": 14,
   "metadata": {},
   "outputs": [],
   "source": [
    "\n",
    "#test = df_cp.copy()['totDailyGrossRevenue'][-300:]\n",
    "# perform seasonal decomposition\n",
    "result = seasonal_decompose(df_cp['totDailyGrossRevenue'], model='additive', period=7)\n",
    "#df_final['seasonal'] = result.seasonal.reset_index(drop=True)\n",
    "#df_final['trend'] = result.trend.reset_index(drop=True).fillna(0)\n"
   ]
  },
  {
   "cell_type": "code",
   "execution_count": 15,
   "metadata": {},
   "outputs": [],
   "source": [
    "rol_cols = ['adCostGOG','clicksCounterGOG','impressionsCounterGOG','adCostFB','clicksCounterFB','impressionsCounterFB','adCostAMZ','clicksCounterAMZ','impressionsCounterAMZ','totalcost']\n",
    "df_final = cf.create_features(df_final, rol_cols, relevant_lags)\n"
   ]
  },
  {
   "cell_type": "code",
   "execution_count": 17,
   "metadata": {},
   "outputs": [],
   "source": [
    "df_final_scaled = df_final.copy()\n",
    "df_final_scaled = cf.scale_features(df_final_scaled, scaler_path=MODEL_LOCATION, scaler_filename = 'scaler.pkl', train=True)"
   ]
  },
  {
   "cell_type": "code",
   "execution_count": 18,
   "metadata": {},
   "outputs": [
    {
     "name": "stdout",
     "output_type": "stream",
     "text": [
      "R-squared: 0.84\n",
      "Mae  0.043248542797888825\n",
      "Mse  0.004130367120501884\n"
     ]
    }
   ],
   "source": [
    "# Load the data into a Pandas DataFrame\n",
    "data = df_final_scaled.copy()\n",
    "data.fillna(0, inplace=True)\n",
    "\n",
    "cols = [el for el in data.columns if el not in ['totDailyGrossRevenue','calDate']]\n",
    "\n",
    "\n",
    "# Split the data into training and testing sets\n",
    "X_train, X_test, y_train, y_test = train_test_split(data[cols], data['totDailyGrossRevenue'], test_size=0.1, random_state=42)\n",
    "\n",
    "# Fit a linear regression model to the training data\n",
    "model = Ridge().fit(X_train, y_train)\n",
    "\n",
    "# Evaluate the model on the test data\n",
    "r_squared = model.score(X_test, y_test)\n",
    "coefficients = dict(zip(cols, model.coef_))\n",
    "\n",
    "# Print the results\n",
    "print(f'R-squared: {r_squared:.2f}')\n",
    "\n",
    "#for k,v in coefficients.items():\n",
    "#    print(k,v)\n",
    "#\n",
    "#print(model.intercept_)\n",
    "\n",
    "y_pred = model.predict(X_test)\n",
    "#print(f'Mape {cf.mape(y_test, y_pred)}')\n",
    "print(f'Mae  {cf.mae(y_test, y_pred)}')\n",
    "print(f'Mse  {cf.mse(y_test, y_pred)}')\n",
    "pkl.dump(model, open(os.path.join(MODEL_LOCATION,MODEL_NAME), 'wb'))"
   ]
  },
  {
   "cell_type": "code",
   "execution_count": 19,
   "metadata": {},
   "outputs": [
    {
     "data": {
      "application/vnd.plotly.v1+json": {
       "config": {
        "plotlyServerURL": "https://plot.ly"
       },
       "data": [
        {
         "hovertemplate": "variable=wide_variable_0<br>index=%{x}<br>value=%{y}<extra></extra>",
         "legendgroup": "wide_variable_0",
         "line": {
          "color": "#636efa",
          "dash": "solid"
         },
         "marker": {
          "symbol": "circle"
         },
         "mode": "lines",
         "name": "y_test",
         "orientation": "v",
         "showlegend": true,
         "type": "scatter",
         "x": [
          0,
          1,
          2,
          3,
          4,
          5,
          6,
          7,
          8,
          9,
          10,
          11,
          12,
          13,
          14,
          15,
          16,
          17,
          18,
          19,
          20,
          21,
          22,
          23,
          24,
          25,
          26,
          27,
          28,
          29,
          30,
          31,
          32,
          33,
          34,
          35,
          36,
          37,
          38,
          39,
          40,
          41,
          42,
          43,
          44,
          45,
          46,
          47,
          48,
          49,
          50,
          51,
          52,
          53,
          54,
          55,
          56,
          57,
          58,
          59,
          60,
          61,
          62,
          63,
          64,
          65,
          66,
          67,
          68,
          69,
          70,
          71,
          72,
          73,
          74,
          75,
          76,
          77,
          78,
          79,
          80,
          81,
          82,
          83,
          84,
          85,
          86,
          87,
          88,
          89,
          90,
          91,
          92,
          93,
          94,
          95,
          96,
          97,
          98,
          99,
          100,
          101,
          102,
          103,
          104,
          105,
          106,
          107,
          108,
          109,
          110,
          111,
          112,
          113,
          114,
          115,
          116,
          117,
          118,
          119,
          120,
          121,
          122,
          123,
          124,
          125,
          126,
          127,
          128,
          129,
          130,
          131,
          132,
          133,
          134,
          135,
          136,
          137,
          138,
          139,
          140,
          141,
          142,
          143,
          144
         ],
         "xaxis": "x",
         "y": [
          0.009827883715352535,
          0,
          0.09071964447530337,
          0.0068751324025260775,
          0.04260491646158858,
          0.0039811748105302355,
          0,
          0.011980853778149827,
          0.01118760516376851,
          0,
          0.002781969552318479,
          0,
          0.2873921065230233,
          0.23908699884185697,
          0.02058526816002718,
          0.23570216034260874,
          0.0018179391774291842,
          0,
          0.028015674592620176,
          0.127293071766602,
          0,
          0,
          0.004267677545371488,
          0.2537518326376077,
          0.010551139804935501,
          0.005838309801846497,
          0.013278981804743257,
          0.259042334278699,
          0,
          0.024892141519285746,
          0.01011718615118572,
          0.0009789621135129437,
          0,
          0.013544020165313012,
          0.7567367805118415,
          0.021627690162690626,
          0,
          0,
          0.3995219977173105,
          0,
          0,
          0.018657207410248587,
          0.4370566556825064,
          0.0006980587806555595,
          0,
          0.007032848891738363,
          0.0041043616541753345,
          0.5619391848950532,
          0.007386544450386033,
          0.009604840869661789,
          0.18888182742083154,
          0.0075927890901251755,
          0.775481711886504,
          0.0023321509262810734,
          0.04873999456858008,
          0,
          0.33405285648826044,
          0.015083855710876747,
          0.031014154354981557,
          0.008889983883054625,
          0.0020521808270876673,
          0.10814311698177302,
          0.023355105674713942,
          0,
          0.05735654098808916,
          0.034195547915482634,
          0.2564899402077192,
          0,
          0.0021781673717247,
          0.005674993910650343,
          0.47384192701552813,
          0.06229054736954094,
          0.056651949571785744,
          0,
          0,
          0.39218024848279553,
          0.009559112420126865,
          0.23275687489909416,
          0.2982176170251684,
          0.23442829639127877,
          0.24120077309076715,
          0.0031720612238612922,
          0.01231495142985396,
          0.007226028260181814,
          0.01737307788861483,
          0.41559974728032384,
          0.060555665988205803,
          0.012757304186579542,
          0,
          0,
          0.7609512637383662,
          0.00946672228739304,
          0,
          0,
          0.42558068131656884,
          0.02998853055826971,
          0.013302312646342705,
          0.03215269942503475,
          0.019885342912043667,
          0.035765246938293666,
          0.019264742525498278,
          0.010215175685903412,
          0,
          0.26712040487409283,
          0.02952378019360866,
          0.3006953524030301,
          0.00835430775993124,
          0.1460230714026409,
          0.25284099658156506,
          0.048078331900819664,
          0.10838575773440733,
          0.018813990665796896,
          0.019654834197041095,
          0.2010213309218576,
          0,
          0.0052793028371236625,
          0.001772210727894261,
          0,
          0.0023321509262810734,
          0.04693232096145465,
          0.012099374453475038,
          0.0022854892430821724,
          0.016320390315647623,
          0.006975921638235704,
          0.052384272026414255,
          0.0009789621135129437,
          0.0025785246135712706,
          0.008917047659309986,
          0.24063523349039662,
          0.38590518532620727,
          0.005084257001352256,
          0.0038878514441324334,
          0.004103428420511357,
          0.035885634080946825,
          0.42525031659952056,
          0.349016325056484,
          0.32413164940651007,
          0.001772210727894261,
          0,
          0.2552506059019564,
          0,
          0.022327615410674143,
          0.025508075737511234,
          0.00596896251480342,
          0.0016788873614964589
         ],
         "yaxis": "y"
        },
        {
         "hovertemplate": "variable=wide_variable_1<br>index=%{x}<br>value=%{y}<extra></extra>",
         "legendgroup": "wide_variable_1",
         "line": {
          "color": "#EF553B",
          "dash": "solid"
         },
         "marker": {
          "symbol": "circle"
         },
         "mode": "lines",
         "name": "y_pred",
         "orientation": "v",
         "showlegend": true,
         "type": "scatter",
         "x": [
          0,
          1,
          2,
          3,
          4,
          5,
          6,
          7,
          8,
          9,
          10,
          11,
          12,
          13,
          14,
          15,
          16,
          17,
          18,
          19,
          20,
          21,
          22,
          23,
          24,
          25,
          26,
          27,
          28,
          29,
          30,
          31,
          32,
          33,
          34,
          35,
          36,
          37,
          38,
          39,
          40,
          41,
          42,
          43,
          44,
          45,
          46,
          47,
          48,
          49,
          50,
          51,
          52,
          53,
          54,
          55,
          56,
          57,
          58,
          59,
          60,
          61,
          62,
          63,
          64,
          65,
          66,
          67,
          68,
          69,
          70,
          71,
          72,
          73,
          74,
          75,
          76,
          77,
          78,
          79,
          80,
          81,
          82,
          83,
          84,
          85,
          86,
          87,
          88,
          89,
          90,
          91,
          92,
          93,
          94,
          95,
          96,
          97,
          98,
          99,
          100,
          101,
          102,
          103,
          104,
          105,
          106,
          107,
          108,
          109,
          110,
          111,
          112,
          113,
          114,
          115,
          116,
          117,
          118,
          119,
          120,
          121,
          122,
          123,
          124,
          125,
          126,
          127,
          128,
          129,
          130,
          131,
          132,
          133,
          134,
          135,
          136,
          137,
          138,
          139,
          140,
          141,
          142,
          143,
          144
         ],
         "xaxis": "x",
         "y": [
          0.032544433586575196,
          0.021276175266233727,
          0.14816160619361424,
          0.01793742508458266,
          0.09888671493800356,
          0.03848424317247379,
          0.04888245578916552,
          -0.030131744862038887,
          0.046648739198814265,
          0.010713774630770709,
          0.03376628878975295,
          0.01866909459324619,
          0.21694063182401263,
          0.26181515648422193,
          0.03250558133605453,
          0.23550185739562787,
          0.015708081440216123,
          0.035465485591830645,
          -0.029759257227096242,
          0.04244919516672163,
          0.012253755852959326,
          0.009784504084988491,
          0.03198257810508255,
          0.21488070280144955,
          0.09098741449206721,
          0.044967038649840446,
          0.02079548973289582,
          0.27271736376732203,
          0.013042926376027164,
          0.017432974501349802,
          -0.011749650607953785,
          0.0502933081735788,
          0.011636955473693061,
          0.012964070064843677,
          0.7482173885931019,
          0.028617844688823075,
          0.013865054616137407,
          0.025703388031764286,
          0.3753287747279112,
          0.04189291857739292,
          0.041892527861005106,
          0.03734015051228179,
          0.6173987459620118,
          0.0565171185895682,
          0.1467405739617058,
          0.05620044899248687,
          0.015255459347101052,
          0.2609531943941338,
          0.03469603628046592,
          0.017138793533396715,
          0.19421910814279944,
          0.05132652173135924,
          0.6334549167997305,
          0.029521933181027554,
          0.004587561151165903,
          -0.010732465364820871,
          0.3343754548776148,
          0.02882504764641034,
          0.09140758198584686,
          0.027858255167965005,
          0.046057952703650235,
          0.2080047209070332,
          0.0577343339335428,
          0.008010044257349129,
          0.04847052739985526,
          0.01313437566192073,
          0.3321689736669051,
          0.021910611468265943,
          -0.0083564661943612,
          0.039619193726109225,
          0.2619087219409557,
          0.013229823270607274,
          0.12586258692666658,
          0.027517617166361665,
          0.030141888371883137,
          0.35276650459854736,
          0.0232591390142162,
          0.21788152804344463,
          0.4172199499939987,
          0.18230286572128382,
          0.12464857347838501,
          0.02705218027458165,
          0.04894755985793147,
          0.02566833729613795,
          0.028208692439403316,
          0.21511835156731862,
          0.09355614287799868,
          0.041625542997696684,
          0.005700981833290736,
          0.04749709717748794,
          0.6395188501311712,
          0.032139730861053734,
          -0.008656250130213393,
          0.020953260744569026,
          0.26949186465584485,
          -0.027713429584021676,
          0.031248626296880137,
          -0.0048011206271341145,
          0.03202043190692774,
          -0.01495482190309702,
          0.02999279379284276,
          0.04379498772110471,
          0.014832348834899624,
          0.2367940298071436,
          -0.03070391310406269,
          0.36024956870246955,
          -0.014736593685176574,
          0.26105798930283575,
          0.2053977303745038,
          0.03154627966298332,
          0.07275827735934651,
          0.010429443325671535,
          0.0028582819712348953,
          0.23206700854115409,
          0.04064383682307015,
          0.13809014416340207,
          0.018327485513880134,
          0.017834978669727622,
          0.03729343005468158,
          0.06623274362890284,
          0.05390730238244794,
          0.029295978189019144,
          0.03356728218808421,
          0.0366943252863119,
          0.12551137604527335,
          0.021099547974032316,
          0.027534862032824958,
          0.027083650320272948,
          0.2440189858247361,
          0.5600072640523293,
          -0.0070593175194371555,
          0.09041153947494654,
          0.022313211138242185,
          -0.014784048954226109,
          0.6221586201954701,
          0.2347125029205379,
          0.3964779023122614,
          0.004426684147375848,
          0.01779047064700709,
          0.20776934536325334,
          0.034306388114938274,
          -0.020866300328597855,
          0.029219891667233367,
          0.0040096293763782695,
          0.015110463306358336
         ],
         "yaxis": "y"
        }
       ],
       "layout": {
        "autosize": false,
        "height": 800,
        "legend": {
         "title": {
          "text": "variable"
         },
         "tracegroupgap": 0
        },
        "template": {
         "data": {
          "bar": [
           {
            "error_x": {
             "color": "#2a3f5f"
            },
            "error_y": {
             "color": "#2a3f5f"
            },
            "marker": {
             "line": {
              "color": "#E5ECF6",
              "width": 0.5
             },
             "pattern": {
              "fillmode": "overlay",
              "size": 10,
              "solidity": 0.2
             }
            },
            "type": "bar"
           }
          ],
          "barpolar": [
           {
            "marker": {
             "line": {
              "color": "#E5ECF6",
              "width": 0.5
             },
             "pattern": {
              "fillmode": "overlay",
              "size": 10,
              "solidity": 0.2
             }
            },
            "type": "barpolar"
           }
          ],
          "carpet": [
           {
            "aaxis": {
             "endlinecolor": "#2a3f5f",
             "gridcolor": "white",
             "linecolor": "white",
             "minorgridcolor": "white",
             "startlinecolor": "#2a3f5f"
            },
            "baxis": {
             "endlinecolor": "#2a3f5f",
             "gridcolor": "white",
             "linecolor": "white",
             "minorgridcolor": "white",
             "startlinecolor": "#2a3f5f"
            },
            "type": "carpet"
           }
          ],
          "choropleth": [
           {
            "colorbar": {
             "outlinewidth": 0,
             "ticks": ""
            },
            "type": "choropleth"
           }
          ],
          "contour": [
           {
            "colorbar": {
             "outlinewidth": 0,
             "ticks": ""
            },
            "colorscale": [
             [
              0,
              "#0d0887"
             ],
             [
              0.1111111111111111,
              "#46039f"
             ],
             [
              0.2222222222222222,
              "#7201a8"
             ],
             [
              0.3333333333333333,
              "#9c179e"
             ],
             [
              0.4444444444444444,
              "#bd3786"
             ],
             [
              0.5555555555555556,
              "#d8576b"
             ],
             [
              0.6666666666666666,
              "#ed7953"
             ],
             [
              0.7777777777777778,
              "#fb9f3a"
             ],
             [
              0.8888888888888888,
              "#fdca26"
             ],
             [
              1,
              "#f0f921"
             ]
            ],
            "type": "contour"
           }
          ],
          "contourcarpet": [
           {
            "colorbar": {
             "outlinewidth": 0,
             "ticks": ""
            },
            "type": "contourcarpet"
           }
          ],
          "heatmap": [
           {
            "colorbar": {
             "outlinewidth": 0,
             "ticks": ""
            },
            "colorscale": [
             [
              0,
              "#0d0887"
             ],
             [
              0.1111111111111111,
              "#46039f"
             ],
             [
              0.2222222222222222,
              "#7201a8"
             ],
             [
              0.3333333333333333,
              "#9c179e"
             ],
             [
              0.4444444444444444,
              "#bd3786"
             ],
             [
              0.5555555555555556,
              "#d8576b"
             ],
             [
              0.6666666666666666,
              "#ed7953"
             ],
             [
              0.7777777777777778,
              "#fb9f3a"
             ],
             [
              0.8888888888888888,
              "#fdca26"
             ],
             [
              1,
              "#f0f921"
             ]
            ],
            "type": "heatmap"
           }
          ],
          "heatmapgl": [
           {
            "colorbar": {
             "outlinewidth": 0,
             "ticks": ""
            },
            "colorscale": [
             [
              0,
              "#0d0887"
             ],
             [
              0.1111111111111111,
              "#46039f"
             ],
             [
              0.2222222222222222,
              "#7201a8"
             ],
             [
              0.3333333333333333,
              "#9c179e"
             ],
             [
              0.4444444444444444,
              "#bd3786"
             ],
             [
              0.5555555555555556,
              "#d8576b"
             ],
             [
              0.6666666666666666,
              "#ed7953"
             ],
             [
              0.7777777777777778,
              "#fb9f3a"
             ],
             [
              0.8888888888888888,
              "#fdca26"
             ],
             [
              1,
              "#f0f921"
             ]
            ],
            "type": "heatmapgl"
           }
          ],
          "histogram": [
           {
            "marker": {
             "pattern": {
              "fillmode": "overlay",
              "size": 10,
              "solidity": 0.2
             }
            },
            "type": "histogram"
           }
          ],
          "histogram2d": [
           {
            "colorbar": {
             "outlinewidth": 0,
             "ticks": ""
            },
            "colorscale": [
             [
              0,
              "#0d0887"
             ],
             [
              0.1111111111111111,
              "#46039f"
             ],
             [
              0.2222222222222222,
              "#7201a8"
             ],
             [
              0.3333333333333333,
              "#9c179e"
             ],
             [
              0.4444444444444444,
              "#bd3786"
             ],
             [
              0.5555555555555556,
              "#d8576b"
             ],
             [
              0.6666666666666666,
              "#ed7953"
             ],
             [
              0.7777777777777778,
              "#fb9f3a"
             ],
             [
              0.8888888888888888,
              "#fdca26"
             ],
             [
              1,
              "#f0f921"
             ]
            ],
            "type": "histogram2d"
           }
          ],
          "histogram2dcontour": [
           {
            "colorbar": {
             "outlinewidth": 0,
             "ticks": ""
            },
            "colorscale": [
             [
              0,
              "#0d0887"
             ],
             [
              0.1111111111111111,
              "#46039f"
             ],
             [
              0.2222222222222222,
              "#7201a8"
             ],
             [
              0.3333333333333333,
              "#9c179e"
             ],
             [
              0.4444444444444444,
              "#bd3786"
             ],
             [
              0.5555555555555556,
              "#d8576b"
             ],
             [
              0.6666666666666666,
              "#ed7953"
             ],
             [
              0.7777777777777778,
              "#fb9f3a"
             ],
             [
              0.8888888888888888,
              "#fdca26"
             ],
             [
              1,
              "#f0f921"
             ]
            ],
            "type": "histogram2dcontour"
           }
          ],
          "mesh3d": [
           {
            "colorbar": {
             "outlinewidth": 0,
             "ticks": ""
            },
            "type": "mesh3d"
           }
          ],
          "parcoords": [
           {
            "line": {
             "colorbar": {
              "outlinewidth": 0,
              "ticks": ""
             }
            },
            "type": "parcoords"
           }
          ],
          "pie": [
           {
            "automargin": true,
            "type": "pie"
           }
          ],
          "scatter": [
           {
            "fillpattern": {
             "fillmode": "overlay",
             "size": 10,
             "solidity": 0.2
            },
            "type": "scatter"
           }
          ],
          "scatter3d": [
           {
            "line": {
             "colorbar": {
              "outlinewidth": 0,
              "ticks": ""
             }
            },
            "marker": {
             "colorbar": {
              "outlinewidth": 0,
              "ticks": ""
             }
            },
            "type": "scatter3d"
           }
          ],
          "scattercarpet": [
           {
            "marker": {
             "colorbar": {
              "outlinewidth": 0,
              "ticks": ""
             }
            },
            "type": "scattercarpet"
           }
          ],
          "scattergeo": [
           {
            "marker": {
             "colorbar": {
              "outlinewidth": 0,
              "ticks": ""
             }
            },
            "type": "scattergeo"
           }
          ],
          "scattergl": [
           {
            "marker": {
             "colorbar": {
              "outlinewidth": 0,
              "ticks": ""
             }
            },
            "type": "scattergl"
           }
          ],
          "scattermapbox": [
           {
            "marker": {
             "colorbar": {
              "outlinewidth": 0,
              "ticks": ""
             }
            },
            "type": "scattermapbox"
           }
          ],
          "scatterpolar": [
           {
            "marker": {
             "colorbar": {
              "outlinewidth": 0,
              "ticks": ""
             }
            },
            "type": "scatterpolar"
           }
          ],
          "scatterpolargl": [
           {
            "marker": {
             "colorbar": {
              "outlinewidth": 0,
              "ticks": ""
             }
            },
            "type": "scatterpolargl"
           }
          ],
          "scatterternary": [
           {
            "marker": {
             "colorbar": {
              "outlinewidth": 0,
              "ticks": ""
             }
            },
            "type": "scatterternary"
           }
          ],
          "surface": [
           {
            "colorbar": {
             "outlinewidth": 0,
             "ticks": ""
            },
            "colorscale": [
             [
              0,
              "#0d0887"
             ],
             [
              0.1111111111111111,
              "#46039f"
             ],
             [
              0.2222222222222222,
              "#7201a8"
             ],
             [
              0.3333333333333333,
              "#9c179e"
             ],
             [
              0.4444444444444444,
              "#bd3786"
             ],
             [
              0.5555555555555556,
              "#d8576b"
             ],
             [
              0.6666666666666666,
              "#ed7953"
             ],
             [
              0.7777777777777778,
              "#fb9f3a"
             ],
             [
              0.8888888888888888,
              "#fdca26"
             ],
             [
              1,
              "#f0f921"
             ]
            ],
            "type": "surface"
           }
          ],
          "table": [
           {
            "cells": {
             "fill": {
              "color": "#EBF0F8"
             },
             "line": {
              "color": "white"
             }
            },
            "header": {
             "fill": {
              "color": "#C8D4E3"
             },
             "line": {
              "color": "white"
             }
            },
            "type": "table"
           }
          ]
         },
         "layout": {
          "annotationdefaults": {
           "arrowcolor": "#2a3f5f",
           "arrowhead": 0,
           "arrowwidth": 1
          },
          "autotypenumbers": "strict",
          "coloraxis": {
           "colorbar": {
            "outlinewidth": 0,
            "ticks": ""
           }
          },
          "colorscale": {
           "diverging": [
            [
             0,
             "#8e0152"
            ],
            [
             0.1,
             "#c51b7d"
            ],
            [
             0.2,
             "#de77ae"
            ],
            [
             0.3,
             "#f1b6da"
            ],
            [
             0.4,
             "#fde0ef"
            ],
            [
             0.5,
             "#f7f7f7"
            ],
            [
             0.6,
             "#e6f5d0"
            ],
            [
             0.7,
             "#b8e186"
            ],
            [
             0.8,
             "#7fbc41"
            ],
            [
             0.9,
             "#4d9221"
            ],
            [
             1,
             "#276419"
            ]
           ],
           "sequential": [
            [
             0,
             "#0d0887"
            ],
            [
             0.1111111111111111,
             "#46039f"
            ],
            [
             0.2222222222222222,
             "#7201a8"
            ],
            [
             0.3333333333333333,
             "#9c179e"
            ],
            [
             0.4444444444444444,
             "#bd3786"
            ],
            [
             0.5555555555555556,
             "#d8576b"
            ],
            [
             0.6666666666666666,
             "#ed7953"
            ],
            [
             0.7777777777777778,
             "#fb9f3a"
            ],
            [
             0.8888888888888888,
             "#fdca26"
            ],
            [
             1,
             "#f0f921"
            ]
           ],
           "sequentialminus": [
            [
             0,
             "#0d0887"
            ],
            [
             0.1111111111111111,
             "#46039f"
            ],
            [
             0.2222222222222222,
             "#7201a8"
            ],
            [
             0.3333333333333333,
             "#9c179e"
            ],
            [
             0.4444444444444444,
             "#bd3786"
            ],
            [
             0.5555555555555556,
             "#d8576b"
            ],
            [
             0.6666666666666666,
             "#ed7953"
            ],
            [
             0.7777777777777778,
             "#fb9f3a"
            ],
            [
             0.8888888888888888,
             "#fdca26"
            ],
            [
             1,
             "#f0f921"
            ]
           ]
          },
          "colorway": [
           "#636efa",
           "#EF553B",
           "#00cc96",
           "#ab63fa",
           "#FFA15A",
           "#19d3f3",
           "#FF6692",
           "#B6E880",
           "#FF97FF",
           "#FECB52"
          ],
          "font": {
           "color": "#2a3f5f"
          },
          "geo": {
           "bgcolor": "white",
           "lakecolor": "white",
           "landcolor": "#E5ECF6",
           "showlakes": true,
           "showland": true,
           "subunitcolor": "white"
          },
          "hoverlabel": {
           "align": "left"
          },
          "hovermode": "closest",
          "mapbox": {
           "style": "light"
          },
          "paper_bgcolor": "white",
          "plot_bgcolor": "#E5ECF6",
          "polar": {
           "angularaxis": {
            "gridcolor": "white",
            "linecolor": "white",
            "ticks": ""
           },
           "bgcolor": "#E5ECF6",
           "radialaxis": {
            "gridcolor": "white",
            "linecolor": "white",
            "ticks": ""
           }
          },
          "scene": {
           "xaxis": {
            "backgroundcolor": "#E5ECF6",
            "gridcolor": "white",
            "gridwidth": 2,
            "linecolor": "white",
            "showbackground": true,
            "ticks": "",
            "zerolinecolor": "white"
           },
           "yaxis": {
            "backgroundcolor": "#E5ECF6",
            "gridcolor": "white",
            "gridwidth": 2,
            "linecolor": "white",
            "showbackground": true,
            "ticks": "",
            "zerolinecolor": "white"
           },
           "zaxis": {
            "backgroundcolor": "#E5ECF6",
            "gridcolor": "white",
            "gridwidth": 2,
            "linecolor": "white",
            "showbackground": true,
            "ticks": "",
            "zerolinecolor": "white"
           }
          },
          "shapedefaults": {
           "line": {
            "color": "#2a3f5f"
           }
          },
          "ternary": {
           "aaxis": {
            "gridcolor": "white",
            "linecolor": "white",
            "ticks": ""
           },
           "baxis": {
            "gridcolor": "white",
            "linecolor": "white",
            "ticks": ""
           },
           "bgcolor": "#E5ECF6",
           "caxis": {
            "gridcolor": "white",
            "linecolor": "white",
            "ticks": ""
           }
          },
          "title": {
           "x": 0.05
          },
          "xaxis": {
           "automargin": true,
           "gridcolor": "white",
           "linecolor": "white",
           "ticks": "",
           "title": {
            "standoff": 15
           },
           "zerolinecolor": "white",
           "zerolinewidth": 2
          },
          "yaxis": {
           "automargin": true,
           "gridcolor": "white",
           "linecolor": "white",
           "ticks": "",
           "title": {
            "standoff": 15
           },
           "zerolinecolor": "white",
           "zerolinewidth": 2
          }
         }
        },
        "title": {
         "text": "Revenues over Time"
        },
        "width": 1600,
        "xaxis": {
         "anchor": "y",
         "domain": [
          0,
          1
         ],
         "title": {
          "text": "index"
         }
        },
        "yaxis": {
         "anchor": "x",
         "domain": [
          0,
          1
         ],
         "title": {
          "text": "value"
         }
        }
       }
      }
     },
     "metadata": {},
     "output_type": "display_data"
    }
   ],
   "source": [
    "fig = px.line( y=[y_test,y_pred],  title=\"Revenues over Time\")\n",
    "\n",
    "fig.update_layout(\n",
    "    autosize=False,\n",
    "    width=1600,\n",
    "    height=800,)\n",
    "\n",
    "fig.for_each_trace(lambda t: t.update(name = {\n",
    "        \"wide_variable_0\": \"y_test\", \n",
    "        \"wide_variable_1\": \"y_pred\"\n",
    "        }[t.name]))\n",
    "\n",
    "fig.show()\n"
   ]
  },
  {
   "cell_type": "code",
   "execution_count": null,
   "metadata": {},
   "outputs": [],
   "source": []
  }
 ],
 "metadata": {
  "kernelspec": {
   "display_name": "ds_jj",
   "language": "python",
   "name": "python3"
  },
  "language_info": {
   "codemirror_mode": {
    "name": "ipython",
    "version": 3
   },
   "file_extension": ".py",
   "mimetype": "text/x-python",
   "name": "python",
   "nbconvert_exporter": "python",
   "pygments_lexer": "ipython3",
   "version": "3.9.16"
  },
  "orig_nbformat": 4,
  "vscode": {
   "interpreter": {
    "hash": "5650b7ac26dea96928b1940fb20d16c01bd7ff33980dd909f76fbd4b0b9d741a"
   }
  }
 },
 "nbformat": 4,
 "nbformat_minor": 2
}
